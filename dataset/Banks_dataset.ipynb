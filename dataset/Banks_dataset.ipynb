{
  "cells": [
    {
      "cell_type": "code",
      "execution_count": 2,
      "metadata": {
        "id": "ptI_FhgJNlfb"
      },
      "outputs": [],
      "source": [
        "types = [\"particulier\", \"professionnel\", \"entreprise\"]"
      ]
    },
    {
      "cell_type": "code",
      "execution_count": 3,
      "metadata": {
        "id": "if_3VJKoBmJT"
      },
      "outputs": [],
      "source": [
        "banks = [\n",
        "          \"BANQUE EXTÉRIEURE D’ALGÉRIE « BEA »\", \n",
        "          \"BANQUE NATIONALE D’ALGÉRIE « BNA »\",\n",
        "          \"BANQUE DE L’AGRICULTURE ET DU DÉVELOPPEMENT RURAL « BADR »\",\n",
        "          \"BANQUE DE DÉVELOPPEMENT LOCAL « BDL »\",\n",
        "          \"CRÉDIT POPULAIRE D’ALGÉRIE « CPA »\",\n",
        "          \"CAISSE D’ÉPARGNE ET DE PRÉVOYANCE « CNEP BANQUE »\",\n",
        "          \"BANQUE AL BARAKA ALGÉRIE\",\n",
        "          \"ARAB BANKING CORPORATION ALGERIE « ABC »\",\n",
        "          \"NATIXIS BANQUE\",\n",
        "          \"SOCIÉTÉ GÉNÉRALE ALGÉRIE\",\n",
        "          \"CITYBANK N.A. ALGERIA\",\n",
        "          \"ARAB BANK PLC ALGERIA\",\n",
        "          \"B.N.P.-PARIBAS EL DJAZAIR\",\n",
        "          \"TRUST BANK ALGERIA\",\n",
        "          \"GULF BANK ALGERIA\",\n",
        "          \"THE HOUSING BANK FOR TRADE AND FINANCE-ALGERIA\",\n",
        "          \"FRANSABANK EL-DJAZAIR\",\n",
        "          \"CRÉDIT AGRICOLE CORPORATE ET INVESTISSEMENT BANK – ALGERIE\"\n",
        "          \"AL SALAM BANK – ALGERIA – SPA\",\n",
        "          \"H.S.B.C. ALGERIE (succursale de banque)\",\n",
        "         ]"
      ]
    },
    {
      "cell_type": "code",
      "execution_count": 4,
      "metadata": {
        "id": "O_UsBzqvN27b"
      },
      "outputs": [],
      "source": [
        "categories = {\n",
        "    \"gestion_de_compte\": {\n",
        "        \"ouverture_compte_cheque\": \"\",\n",
        "        \"tenue_compte_cheque\": \"\",\n",
        "        \"ouverture_compte_epargne\": \"\",\n",
        "        \"tenue_compte_epargne\": \"\",\n",
        "        \"ouverture_compte_devise\": \"\",\n",
        "        \"tenue_compte_devise\": \"\",\n",
        "        \"fermeture_de_compte\": \"\"\n",
        "    },\n",
        "\n",
        "    \"gestion_a_distance\": {\n",
        "        \"e-banking_abonnement\": \"\",\n",
        "        \"e-banking_consultation_solde\": \"\",\n",
        "        \"e-banking_virement\": \"\",\n",
        "        \"e-banking_paiment\": \"\",\n",
        "        \"sms-banking_abonnement\": \"\",\n",
        "        \"sms-banking_virement_en_agence\": \"\",\n",
        "        \"sms-banking_virement_hors_agence\": \"\",\n",
        "        \"service_contact\": \"\",\n",
        "    },\n",
        "\n",
        "    \"option_de_payment\": {\n",
        "        \"versement_en_agence\": \"\",\n",
        "        \"versement_hors_agence\": \"\",\n",
        "        \"virement_en_agence\": \"\",\n",
        "        \"virement_hors_agence\": \"\",\n",
        "        \"prelevement_en_agence\": \"\",\n",
        "        \"prelevement_hors_agence\": \"\",\n",
        "        \"retraits_en_agence\": \"\",\n",
        "        \"retraits_hors_agence\": \"\",\n",
        "        \"payment_cheque_en_agence\": \"\",\n",
        "        \"payment_cheque_hors_agence\": \"\",\n",
        "        \"vente_devise\": \"\",\n",
        "        \"achat_devise\": \"\"\n",
        "    },\n",
        "\n",
        "    \"moyens_de_payment\": {\n",
        "        \"creation_bank_card\": \"\",\n",
        "        \"renouvelement_bank_card\": \"\",\n",
        "        \"remplacement_bank_card\": \"\",\n",
        "        \"edition_code_confidentiel_bank_card\": \"\",\n",
        "        \"retrait_intra_bancaire\": \"\",\n",
        "        \"retrait_inter_bancaire\": \"\",\n",
        "        \"creation_visa\": \"\",\n",
        "        \"renouvelement_visa\": \"\",\n",
        "        \"remplacement_visa\": \"\",\n",
        "        \"edition_code_confidentiel_visa\": \"\",\n",
        "    },\n",
        "\n",
        "    \"prets_et_credits\": {\n",
        "        \"decouvert_duree\": \"\",\n",
        "        \"decouvert_taux\": \"\",\n",
        "        \"credit_court_terme_taux\": \"\",\n",
        "        \"credit_moyen_terme_taux\": \"\",\n",
        "        \"credit_long_terme_taux\": \"\",\n",
        "        \"options_possibles\": \"\"\n",
        "    },\n",
        "\n",
        "    \"placement\": {\n",
        "        \"depots_a_court_terme\": \"\",\n",
        "        \"depots_a_moyen_terme\": \"\",\n",
        "        \"depots_a_long_terme\": \"\",\n",
        "    },\n",
        "\n",
        "    \"epargne\": {\n",
        "        \"epargne_duree_taux_01\": \"\",\n",
        "        \"epargne_duree_taux_02\": \"\",\n",
        "        \"epargne_duree_taux_03\": \"\",\n",
        "        \"epargne_duree_taux_04\": \"\",\n",
        "        \"epargne_duree_taux_05\": \"\",\n",
        "        \"epargne_duree_taux_06\": \"\",\n",
        "        \"epargne_duree_taux_07\": \"\",\n",
        "        \"epargne_duree_taux_08\": \"\",\n",
        "        \"epargne_duree_taux_09\": \"\",\n",
        "        \"epargne_duree_taux_10\": \"\",\n",
        "    },\n",
        "\n",
        "    \"coffre_fort\": {\n",
        "        \"petit\": \"\",\n",
        "        \"moyen\": \"\",\n",
        "        \"grand\": \"\",\n",
        "        \"cautionnement\": \"\"\n",
        "    },\n",
        "\n",
        "    \"financement_externe\": {\n",
        "        \"encaissement_cheque_etranger\": \"\",\n",
        "        \"virement_recu\": \"\",\n",
        "        \"virement_emis\": \"\",\n",
        "        \"exportation_domiciliation\": \"\",\n",
        "        \"exportation_avis_de_sort\": \"\",\n",
        "        \"credit_acheteur_commission_engagement\": \"\",\n",
        "        \"credit_acheteur_commission_gestion\": \"\",\n",
        "        \"importation_domiciliation\": \"\",\n",
        "        \"importation_ouverture_CREDOC\": \"\",\n",
        "        \"reglement_prelevement_compte_dinars\": \"\",\n",
        "        \"reglement_prelevement_compte_devise\": \"\",\n",
        "        \"transfert_libre_prelevement_compte_dinars\": \"\",\n",
        "        \"transfert_libre_prelevement_compte_devise\": \"\",\n",
        "    },\n",
        "}"
      ]
    },
    {
      "cell_type": "code",
      "execution_count": 10,
      "metadata": {},
      "outputs": [
        {
          "name": "stdout",
          "output_type": "stream",
          "text": [
            "Requirement already satisfied: pandas in c:\\programdata\\anaconda3\\envs\\python_dev\\lib\\site-packages (1.5.3)\n",
            "Requirement already satisfied: python-dateutil>=2.8.1 in c:\\programdata\\anaconda3\\envs\\python_dev\\lib\\site-packages (from pandas) (2.8.2)\n",
            "Requirement already satisfied: numpy>=1.21.0 in c:\\programdata\\anaconda3\\envs\\python_dev\\lib\\site-packages (from pandas) (1.23.5)\n",
            "Requirement already satisfied: pytz>=2020.1 in c:\\programdata\\anaconda3\\envs\\python_dev\\lib\\site-packages (from pandas) (2022.7)\n",
            "Requirement already satisfied: six>=1.5 in c:\\programdata\\anaconda3\\envs\\python_dev\\lib\\site-packages (from python-dateutil>=2.8.1->pandas) (1.16.0)\n"
          ]
        }
      ],
      "source": [
        "!pip install --upgrade pandas"
      ]
    },
    {
      "cell_type": "code",
      "execution_count": 11,
      "metadata": {},
      "outputs": [
        {
          "name": "stdout",
          "output_type": "stream",
          "text": [
            "Name: pandas\n",
            "Version: 1.5.3\n",
            "Summary: Powerful data structures for data analysis, time series, and statistics\n",
            "Home-page: https://pandas.pydata.org\n",
            "Author: The Pandas Development Team\n",
            "Author-email: pandas-dev@python.org\n",
            "License: BSD-3-Clause\n",
            "Location: c:\\programdata\\anaconda3\\envs\\python_dev\\lib\\site-packages\n",
            "Requires: numpy, python-dateutil, pytz\n",
            "Required-by: \n"
          ]
        }
      ],
      "source": [
        "!pip show pandas    "
      ]
    },
    {
      "cell_type": "code",
      "execution_count": 9,
      "metadata": {
        "id": "id3kmY8jDuYY"
      },
      "outputs": [
        {
          "name": "stdout",
          "output_type": "stream",
          "text": [
            "./prestations/gestion_de_compte.csv\n",
            "./prestations/gestion_a_distance.csv\n",
            "./prestations/option_de_payment.csv\n",
            "./prestations/moyens_de_payment.csv\n",
            "./prestations/prets_et_credits.csv\n",
            "./prestations/placement.csv\n",
            "./prestations/epargne.csv\n",
            "./prestations/coffre_fort.csv\n",
            "./prestations/financement_externe.csv\n"
          ]
        }
      ],
      "source": [
        "for category in categories.keys():\n",
        "  #constructing the columns\n",
        "  columns = dict()\n",
        "\n",
        "  columns[\"banque\"] = []\n",
        "  columns[\"type_prestation\"] = []\n",
        "  for bank_name in banks:\n",
        "    for type_length in range(len(types)):\n",
        "      columns[\"banque\"].append(bank_name)\n",
        "      columns[\"type_prestation\"].append(types[type_length])\n",
        "  \n",
        "  for detail in categories[category].keys():\n",
        "    columns[detail] = [\"\" for _ in range(len(banks) * 3)]\n",
        "  \n",
        "  df = pd.DataFrame(columns, columns = columns.keys())\n",
        "\n",
        "  path = f\"./prestations/{category}.csv\"\n",
        "\n",
        "  print(path)\n",
        "\n",
        "  df.reset_index(drop=True, inplace=True)\n",
        "  df.to_csv(path) "
      ]
    },
    {
      "cell_type": "code",
      "execution_count": null,
      "metadata": {},
      "outputs": [],
      "source": []
    }
  ],
  "metadata": {
    "colab": {
      "provenance": []
    },
    "kernelspec": {
      "display_name": "Python 3",
      "name": "python3"
    },
    "language_info": {
      "codemirror_mode": {
        "name": "ipython",
        "version": 3
      },
      "file_extension": ".py",
      "mimetype": "text/x-python",
      "name": "python",
      "nbconvert_exporter": "python",
      "pygments_lexer": "ipython3",
      "version": "3.10.10"
    }
  },
  "nbformat": 4,
  "nbformat_minor": 0
}
